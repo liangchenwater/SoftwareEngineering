{
 "metadata": {
  "language_info": {
   "codemirror_mode": {
    "name": "ipython",
    "version": 3
   },
   "file_extension": ".py",
   "mimetype": "text/x-python",
   "name": "python",
   "nbconvert_exporter": "python",
   "pygments_lexer": "ipython3",
   "version": "3.7.6"
  },
  "orig_nbformat": 4,
  "kernelspec": {
   "name": "python3",
   "display_name": "Python 3.7.6 64-bit ('base': conda)"
  },
  "interpreter": {
   "hash": "07efdcd4b820c98a756949507a4d29d7862823915ec7477944641bea022f4f62"
  }
 },
 "nbformat": 4,
 "nbformat_minor": 2,
 "cells": [
  {
   "cell_type": "code",
   "execution_count": 1,
   "metadata": {},
   "outputs": [],
   "source": [
    "import DataBase\n",
    "import json\n",
    "from datetime import datetime\n",
    "DB = DataBase.DataBase()"
   ]
  },
  {
   "cell_type": "code",
   "execution_count": 5,
   "metadata": {},
   "outputs": [],
   "source": [
    "id = DB.AddPrescription(\n",
    "    MR_ID='2'.zfill(15),\n",
    "    Medicine='ntntntn',\n",
    "    Frequency='1d1t',\n",
    "    Notes='外用'\n",
    ")"
   ]
  },
  {
   "cell_type": "code",
   "execution_count": 10,
   "metadata": {},
   "outputs": [
    {
     "output_type": "stream",
     "name": "stdout",
     "text": [
      "0000000001\n"
     ]
    }
   ],
   "source": [
    "with open('test.json','r') as f:\n",
    "    rr = json.load(f)\n",
    "    print(rr['U_ID'])"
   ]
  },
  {
   "cell_type": "code",
   "execution_count": 13,
   "metadata": {},
   "outputs": [
    {
     "output_type": "execute_result",
     "data": {
      "text/plain": [
       "11"
      ]
     },
     "metadata": {},
     "execution_count": 13
    }
   ],
   "source": [
    "from datetime import datetime,timedelta\n",
    "s = '2021-06-30'\n",
    "endtime = datetime.strptime(s,\"%Y-%m-%d\")\n",
    "starttime = datetime.now()+timedelta(days=1)\n",
    "starttime = datetime.replace(starttime,hour=8,minute=0,second=0)\n",
    "(endtime-starttime).days"
   ]
  },
  {
   "cell_type": "code",
   "execution_count": 15,
   "metadata": {},
   "outputs": [
    {
     "output_type": "execute_result",
     "data": {
      "text/plain": [
       "162392635068125.22"
      ]
     },
     "metadata": {},
     "execution_count": 15
    }
   ],
   "source": [
    "import time\n",
    "time.time()*100000"
   ]
  },
  {
   "cell_type": "code",
   "execution_count": null,
   "metadata": {},
   "outputs": [],
   "source": []
  }
 ]
}